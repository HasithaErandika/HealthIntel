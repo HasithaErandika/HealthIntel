{
 "cells": [
  {
   "cell_type": "code",
   "id": "initial_id",
   "metadata": {
    "collapsed": true,
    "ExecuteTime": {
     "end_time": "2025-08-02T05:59:41.467377Z",
     "start_time": "2025-08-02T05:59:40.353252Z"
    }
   },
   "source": [
    "# Import necessary libraries\n",
    "import pandas as pd\n",
    "import numpy as np\n",
    "from sklearn.preprocessing import StandardScaler, OneHotEncoder\n",
    "from sklearn.compose import ColumnTransformer\n",
    "from sklearn.impute import SimpleImputer\n",
    "import os\n",
    "from joblib import dump\n",
    "\n",
    "# Define paths\n",
    "raw_data_path = '../data/raw/diabetes_012_health_indicators_BRFSS2023.csv'\n",
    "processed_data_path = '../data/processed/'\n",
    "\n",
    "# Create processed directory if it doesn't exist\n",
    "os.makedirs(processed_data_path, exist_ok=True)\n",
    "\n",
    "# Load the raw dataset\n",
    "df = pd.read_csv(raw_data_path)\n",
    "\n",
    "# Handle outliers (cap BMI at 60 based on EDA insights)\n",
    "df['BMI'] = df['BMI'].clip(upper=60)\n",
    "\n",
    "# Verify the change\n",
    "print(\"BMI Stats after capping:\\n\", df['BMI'].describe())\n",
    "\n",
    "# Define feature types\n",
    "numeric_features = ['BMI', 'MentHlth', 'PhysHlth']\n",
    "categorical_features = ['Sex', 'AgeGroup', 'Smoker', 'HighBP', 'HighChol', 'CholCheck',\n",
    "                       'Asthma', 'COPD', 'Stroke', 'HeartDiseaseorAttack', 'PhysActivity',\n",
    "                       'HvyAlcoholConsump', 'AnyHealthcare', 'NoDocbcCost', 'DiffWalk',\n",
    "                       'Education', 'Income']\n",
    "\n",
    "# Create preprocessor\n",
    "preprocessor = ColumnTransformer(\n",
    "    transformers=[\n",
    "        ('num', StandardScaler(), numeric_features),\n",
    "        ('cat', OneHotEncoder(drop='first', sparse_output=False), categorical_features)\n",
    "    ])\n",
    "\n",
    "# Fit and transform the data\n",
    "X = df.drop(columns=['Diabetes_012'])\n",
    "y = df['Diabetes_012']\n",
    "X_processed = preprocessor.fit_transform(X)\n",
    "\n",
    "# Save the preprocessor\n",
    "dump(preprocessor, os.path.join(processed_data_path, 'preprocessor.joblib'))\n",
    "\n",
    "# Save processed data\n",
    "np.save(os.path.join(processed_data_path, 'X_processed.npy'), X_processed)\n",
    "np.save(os.path.join(processed_data_path, 'y.npy'), y)\n",
    "\n",
    "print(\"Shape of X_processed:\", X_processed.shape)\n",
    "print(\"Shape of y:\", y.shape)\n",
    "\n",
    "# Split the data into train and test sets\n",
    "from sklearn.model_selection import train_test_split\n",
    "X_train, X_test, y_train, y_test = train_test_split(X_processed, y, test_size=0.3, random_state=42, stratify=y)\n",
    "\n",
    "# Save the splits\n",
    "np.save(os.path.join(processed_data_path, 'X_train.npy'), X_train)\n",
    "np.save(os.path.join(processed_data_path, 'X_test.npy'), X_test)\n",
    "np.save(os.path.join(processed_data_path, 'y_train.npy'), y_train)\n",
    "np.save(os.path.join(processed_data_path, 'y_test.npy'), y_test)\n",
    "\n",
    "print(\"Shapes - X_train:\", X_train.shape, \"X_test:\", X_test.shape)\n",
    "print(\"Shapes - y_train:\", y_train.shape, \"y_test:\", y_test.shape)"
   ],
   "outputs": [
    {
     "name": "stdout",
     "output_type": "stream",
     "text": [
      "BMI Stats after capping:\n",
      " count    261589.000000\n",
      "mean         28.809484\n",
      "std           6.435822\n",
      "min          12.000000\n",
      "25%          24.000000\n",
      "50%          28.000000\n",
      "75%          32.000000\n",
      "max          60.000000\n",
      "Name: BMI, dtype: float64\n",
      "Shape of X_processed: (261589, 48)\n",
      "Shape of y: (261589,)\n",
      "Shapes - X_train: (183112, 48) X_test: (78477, 48)\n",
      "Shapes - y_train: (183112,) y_test: (78477,)\n"
     ]
    }
   ],
   "execution_count": 4
  }
 ],
 "metadata": {
  "kernelspec": {
   "display_name": "Python 3",
   "language": "python",
   "name": "python3"
  },
  "language_info": {
   "codemirror_mode": {
    "name": "ipython",
    "version": 2
   },
   "file_extension": ".py",
   "mimetype": "text/x-python",
   "name": "python",
   "nbconvert_exporter": "python",
   "pygments_lexer": "ipython2",
   "version": "2.7.6"
  }
 },
 "nbformat": 4,
 "nbformat_minor": 5
}
