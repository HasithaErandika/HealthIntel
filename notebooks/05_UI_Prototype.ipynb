{
 "cells": [
  {
   "cell_type": "code",
   "id": "initial_id",
   "metadata": {
    "collapsed": true,
    "ExecuteTime": {
     "end_time": "2025-08-04T12:27:08.519379Z",
     "start_time": "2025-08-04T12:27:07.918556Z"
    }
   },
   "source": [
    "# Import necessary libraries\n",
    "import numpy as np\n",
    "import gradio as gr\n",
    "from tensorflow.keras.models import load_model\n",
    "import os\n",
    "import warnings\n",
    "warnings.filterwarnings('ignore')\n",
    "\n",
    "# Define paths\n",
    "models_path = '../models/'\n",
    "\n",
    "# Load the trained Neural Network model\n",
    "model = load_model(os.path.join(models_path, 'neural_net_tuned.h5'))\n",
    "\n",
    "# Define meaningful column names, ranges, and default values\n",
    "feature_details = {\n",
    "    'Kidney_Disease_Severity': {'range': (0, 9), 'default': 0, 'step': 1},\n",
    "    'High_Blood_Pressure': {'options': [0, 1], 'default': 0, 'info': '0 = No, 1 = Yes'},\n",
    "    'High_Cholesterol': {'options': [0, 1], 'default': 0, 'info': '0 = No, 1 = Yes'},\n",
    "    'Cholesterol_Check': {'options': [0, 1], 'default': 0, 'info': '0 = No, 1 = Yes'},\n",
    "    'Asthma_Severity': {'range': (0, 9), 'default': 0, 'step': 1},\n",
    "    'COPD_Severity': {'range': (0, 9), 'default': 0, 'step': 1},\n",
    "    'Body_Mass_Index': {'range': (0, 60), 'default': 25, 'step': 0.1},\n",
    "    'Smoker': {'options': [0, 1], 'default': 0, 'info': '0 = No, 1 = Yes'},\n",
    "    'Stroke_History': {'options': [0, 1], 'default': 0, 'info': '0 = No, 1 = Yes'},\n",
    "    'Heart_Disease_or_Attack': {'options': [0, 1], 'default': 0, 'info': '0 = No, 1 = Yes'},\n",
    "    'Physical_Activity': {'options': [0, 1], 'default': 1, 'info': '0 = No, 1 = Yes'},\n",
    "    'Heavy_Alcohol_Consumption': {'options': [0, 1], 'default': 0, 'info': '0 = No, 1 = Yes'},\n",
    "    'Has_Healthcare': {'options': [0, 1], 'default': 1, 'info': '0 = No, 1 = Yes'},\n",
    "    'No_Doctor_Due_to_Cost': {'options': [0, 1], 'default': 0, 'info': '0 = No, 1 = Yes'},\n",
    "    'General_Health_Score': {'range': (0, 5), 'default': 2, 'step': 1},\n",
    "    'Mental_Health_Days': {'range': (0, 30), 'default': 0, 'step': 1},\n",
    "    'Physical_Health_Days': {'range': (0, 30), 'default': 0, 'step': 1},\n",
    "    'Difficulty_Walking': {'options': [0, 1], 'default': 0, 'info': '0 = No, 1 = Yes'},\n",
    "    'Sex': {'options': [0, 1], 'default': 0, 'labels': ['Female', 'Male'], 'info': '0 = Female, 1 = Male'},\n",
    "    'Age_Group': {'range': (1, 13), 'default': 7, 'step': 1},\n",
    "    'Education_Level': {'range': (1, 6), 'default': 3, 'step': 1},\n",
    "    'Income_Level': {'range': (1, 11), 'default': 6, 'step': 1}\n",
    "}\n",
    "\n",
    "# Prediction label mapping\n",
    "label_map = {0: 'No Diabetes', 1: 'Slightly has Diabetes', 2: 'Has Diabetes'}\n",
    "\n",
    "# Validation function\n",
    "def validate_input(**kwargs):\n",
    "    for key, value in kwargs.items():\n",
    "        if key in feature_details:\n",
    "            details = feature_details[key]\n",
    "            if 'range' in details and (value < details['range'][0] or value > details['range'][1]):\n",
    "                return f\"Invalid {key}: Value must be between {details['range'][0]} and {details['range'][1]}\"\n",
    "            elif 'options' in details and value not in details['options']:\n",
    "                return f\"Invalid {key}: Value must be one of {details['options']}\"\n",
    "    return None\n",
    "\n",
    "# Prediction function\n",
    "def predict_diabetes(\n",
    "    Kidney_Disease_Severity, High_Blood_Pressure, High_Cholesterol, Cholesterol_Check,\n",
    "    Asthma_Severity, COPD_Severity, Body_Mass_Index, Smoker, Stroke_History,\n",
    "    Heart_Disease_or_Attack, Physical_Activity, Heavy_Alcohol_Consumption, Has_Healthcare,\n",
    "    No_Doctor_Due_to_Cost, General_Health_Score, Mental_Health_Days, Physical_Health_Days,\n",
    "    Difficulty_Walking, Sex, Age_Group, Education_Level, Income_Level\n",
    "):\n",
    "    # Validate inputs\n",
    "    validation_error = validate_input(\n",
    "        Kidney_Disease_Severity=Kidney_Disease_Severity, High_Blood_Pressure=High_Blood_Pressure,\n",
    "        High_Cholesterol=High_Cholesterol, Cholesterol_Check=Cholesterol_Check,\n",
    "        Asthma_Severity=Asthma_Severity, COPD_Severity=COPD_Severity, Body_Mass_Index=Body_Mass_Index,\n",
    "        Smoker=Smoker, Stroke_History=Stroke_History, Heart_Disease_or_Attack=Heart_Disease_or_Attack,\n",
    "        Physical_Activity=Physical_Activity, Heavy_Alcohol_Consumption=Heavy_Alcohol_Consumption,\n",
    "        Has_Healthcare=Has_Healthcare, No_Doctor_Due_to_Cost=No_Doctor_Due_to_Cost,\n",
    "        General_Health_Score=General_Health_Score, Mental_Health_Days=Mental_Health_Days,\n",
    "        Physical_Health_Days=Physical_Health_Days, Difficulty_Walking=Difficulty_Walking,\n",
    "        Sex=Sex, Age_Group=Age_Group, Education_Level=Education_Level, Income_Level=Income_Level\n",
    "    )\n",
    "    if validation_error:\n",
    "        return validation_error\n",
    "\n",
    "    # Prepare input data (placeholder for your preprocessing)\n",
    "    # Assuming 48 features after one-hot encoding or similar preprocessing\n",
    "    # Adjust this based on your preprocessor.joblib or training data structure\n",
    "    input_data = np.array([\n",
    "        Kidney_Disease_Severity, High_Blood_Pressure, High_Cholesterol, Cholesterol_Check,\n",
    "        Asthma_Severity, COPD_Severity, Body_Mass_Index, Smoker, Stroke_History,\n",
    "        Heart_Disease_or_Attack, Physical_Activity, Heavy_Alcohol_Consumption, Has_Healthcare,\n",
    "        No_Doctor_Due_to_Cost, General_Health_Score, Mental_Health_Days, Physical_Health_Days,\n",
    "        Difficulty_Walking, Sex, Age_Group, Education_Level, Income_Level,\n",
    "        # Placeholder zeros for remaining features\n",
    "        *[0] * (48 - 22)  # Adjust 48 based on your total feature count\n",
    "    ]).reshape(1, -1)\n",
    "\n",
    "    # Make prediction\n",
    "    prediction_proba = model.predict(input_data)\n",
    "    prediction = np.argmax(prediction_proba, axis=1)[0]\n",
    "    confidence = prediction_proba[0, prediction]\n",
    "\n",
    "    # Return result\n",
    "    return f\"Prediction: {label_map[prediction]} (Confidence: {confidence:.2f})\"\n",
    "\n",
    "# Create Gradio interface\n",
    "inputs = [\n",
    "    gr.Slider(minimum=v['range'][0], maximum=v['range'][1], step=v.get('step', 1), value=v['default'], label=k)\n",
    "    if 'range' in v else gr.Dropdown(choices=v['options'], value=v['default'], label=k, info=v.get('info', ''))\n",
    "    for k, v in feature_details.items()\n",
    "]\n",
    "\n",
    "interface = gr.Interface(\n",
    "    fn=predict_diabetes,\n",
    "    inputs=inputs,\n",
    "    outputs=\"text\",\n",
    "    title=\"Diabetes Prediction Tool\",\n",
    "    description=\"Enter your health and demographic details to predict diabetes status. Output will be 'No Diabetes', 'Slightly has Diabetes', or 'Has Diabetes' with a confidence score.\"\n",
    ")\n",
    "\n",
    "# Launch the interface\n",
    "interface.launch()"
   ],
   "outputs": [
    {
     "name": "stderr",
     "output_type": "stream",
     "text": [
      "WARNING:absl:Compiled the loaded model, but the compiled metrics have yet to be built. `model.compile_metrics` will be empty until you train or evaluate the model.\n"
     ]
    },
    {
     "name": "stdout",
     "output_type": "stream",
     "text": [
      "* Running on local URL:  http://127.0.0.1:7861\n",
      "* To create a public link, set `share=True` in `launch()`.\n"
     ]
    },
    {
     "data": {
      "text/plain": [
       "<IPython.core.display.HTML object>"
      ],
      "text/html": [
       "<div><iframe src=\"http://127.0.0.1:7861/\" width=\"100%\" height=\"500\" allow=\"autoplay; camera; microphone; clipboard-read; clipboard-write;\" frameborder=\"0\" allowfullscreen></iframe></div>"
      ]
     },
     "metadata": {},
     "output_type": "display_data"
    },
    {
     "data": {
      "text/plain": []
     },
     "execution_count": 3,
     "metadata": {},
     "output_type": "execute_result"
    }
   ],
   "execution_count": 3
  }
 ],
 "metadata": {
  "kernelspec": {
   "display_name": "Python 3",
   "language": "python",
   "name": "python3"
  },
  "language_info": {
   "codemirror_mode": {
    "name": "ipython",
    "version": 2
   },
   "file_extension": ".py",
   "mimetype": "text/x-python",
   "name": "python",
   "nbconvert_exporter": "python",
   "pygments_lexer": "ipython2",
   "version": "2.7.6"
  }
 },
 "nbformat": 4,
 "nbformat_minor": 5
}
